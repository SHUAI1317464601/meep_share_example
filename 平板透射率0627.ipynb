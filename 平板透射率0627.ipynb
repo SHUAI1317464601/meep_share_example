{
 "cells": [
  {
   "cell_type": "code",
   "execution_count": 2,
   "metadata": {},
   "outputs": [
    {
     "ename": "AttributeError",
     "evalue": "module 'meep' has no attribute 'Bloch'",
     "output_type": "error",
     "traceback": [
      "\u001b[0;31m---------------------------------------------------------------------------\u001b[0m",
      "\u001b[0;31mAttributeError\u001b[0m                            Traceback (most recent call last)",
      "Cell \u001b[0;32mIn[2], line 40\u001b[0m\n\u001b[1;32m     29\u001b[0m sources \u001b[39m=\u001b[39m [mp\u001b[39m.\u001b[39mSource(mp\u001b[39m.\u001b[39mGaussianSource(fcen, fwidth\u001b[39m=\u001b[39mdf),\n\u001b[1;32m     30\u001b[0m                       component\u001b[39m=\u001b[39mmp\u001b[39m.\u001b[39mEz,\n\u001b[1;32m     31\u001b[0m                       center\u001b[39m=\u001b[39mmp\u001b[39m.\u001b[39mVector3(\u001b[39m0\u001b[39m,\u001b[39m0\u001b[39m,\u001b[39m3\u001b[39m),\n\u001b[1;32m     32\u001b[0m                       size\u001b[39m=\u001b[39mmp\u001b[39m.\u001b[39mVector3(\u001b[39m0.5\u001b[39m,\u001b[39m0\u001b[39m,\u001b[39m0\u001b[39m))]\n\u001b[1;32m     35\u001b[0m \u001b[39m# 定义求解器\u001b[39;00m\n\u001b[1;32m     36\u001b[0m sim \u001b[39m=\u001b[39m mp\u001b[39m.\u001b[39mSimulation(cell_size\u001b[39m=\u001b[39mcell_size,\n\u001b[1;32m     37\u001b[0m                     geometry\u001b[39m=\u001b[39mgeometry,\n\u001b[1;32m     38\u001b[0m                     sources\u001b[39m=\u001b[39msources,\n\u001b[1;32m     39\u001b[0m                     resolution\u001b[39m=\u001b[39mres,\n\u001b[0;32m---> 40\u001b[0m                     boundary_layers\u001b[39m=\u001b[39mmp\u001b[39m.\u001b[39;49mBloch,\n\u001b[1;32m     41\u001b[0m                     default_material\u001b[39m=\u001b[39mmp\u001b[39m.\u001b[39mMedium(epsilon\u001b[39m=\u001b[39meps_bg),\n\u001b[1;32m     42\u001b[0m                     symmetries\u001b[39m=\u001b[39m[mp\u001b[39m.\u001b[39mMirror(mp\u001b[39m.\u001b[39mX)])\n\u001b[1;32m     44\u001b[0m detectors \u001b[39m=\u001b[39m mp\u001b[39m.\u001b[39mFluxRegion(center\u001b[39m=\u001b[39mmp\u001b[39m.\u001b[39mVector3(\u001b[39m0\u001b[39m,\u001b[39m0\u001b[39m,\u001b[39m-\u001b[39m\u001b[39m5\u001b[39m),size\u001b[39m=\u001b[39mmp\u001b[39m.\u001b[39mVector3(\u001b[39m3\u001b[39m,\u001b[39m0\u001b[39m,\u001b[39m3\u001b[39m))\n\u001b[1;32m     45\u001b[0m trans \u001b[39m=\u001b[39m sim\u001b[39m.\u001b[39madd_flux(fcen, df, \u001b[39m100\u001b[39m, detectors)\n",
      "\u001b[0;31mAttributeError\u001b[0m: module 'meep' has no attribute 'Bloch'"
     ]
    }
   ],
   "source": [
    "import meep as mp\n",
    "import numpy as np\n",
    "import matplotlib.pyplot as plt\n",
    "import jupyter_rfb\n",
    "import mayavi\n",
    "from mayavi import mlab \n",
    "import vispy\n",
    "# 定义模拟参数\n",
    "wvl_min = 0.4   # 波长范围\n",
    "wvl_max = 0.8\n",
    "fmin = 1/wvl_max\n",
    "fmax = 1/wvl_min\n",
    "fcen = 0.5*(fmin+fmax)\n",
    "df = fmax-fmin\n",
    "\n",
    "# 定义计算网格\n",
    "res =10        # 网格分辨率\n",
    "dpml = 0.5      # PML厚度\n",
    "sz = 10         # 结构厚度\n",
    "cell_size = mp.Vector3(1.5, 1.5, dpml+sz+dpml)\n",
    "\n",
    "# 定义介质和结构\n",
    "eps_bg = 1    # 背景介质\n",
    "eps_slab = 1.5 # 结构介质\n",
    "geometry = [mp.Block(size=mp.Vector3(mp.inf, mp.inf, 6),center=mp.Vector3(0, 0, -2),\n",
    "                     material=mp.Medium(epsilon=eps_slab))]\n",
    "\n",
    "# 定义光源和探测器\n",
    "sources = [mp.Source(mp.GaussianSource(fcen, fwidth=df),\n",
    "                      component=mp.Ez,\n",
    "                      center=mp.Vector3(0,0,3),\n",
    "                      size=mp.Vector3(0.5,0,0))]\n",
    "\n",
    "\n",
    "# 定义求解器\n",
    "sim = mp.Simulation(cell_size=cell_size,\n",
    "                    geometry=geometry,\n",
    "                    sources=sources,\n",
    "                    resolution=res,\n",
    "                    boundary_layers=[mp.PML(dpml)],\n",
    "                    default_material=mp.Medium(epsilon=eps_bg),\n",
    "                    symmetries=[mp.Mirror(mp.X)])\n",
    "\n",
    "detectors = mp.FluxRegion(center=mp.Vector3(0,0,-5),size=mp.Vector3(3,0,3))\n",
    "trans = sim.add_flux(fcen, df, 100, detectors)\n",
    "sim.plot3D()\n",
    "#sim.plot_fields()\n",
    "mlab.show()\n",
    "sim.run(until_after_sources=mp.stop_when_fields_decayed(50, mp.Ez, mp.Vector3(0,0,-4.5), 1e-3))\n",
    "\n",
    "# 计算反射率\n",
    "flux_freqs = mp.get_flux_freqs(trans)\n",
    "refl_data = mp.get_fluxes(trans)\n",
    "#mp.output_epsilon(sim=sim)\n",
    "# 画图显示结果\n",
    "plt.figure(figsize=(8,6))\n",
    "plt.plot(1/np.array(flux_freqs), np.array(refl_data))\n",
    "plt.xlabel(\"Frequency (μm^-1)\")\n",
    "plt.ylabel(\"Reflection\")\n",
    "plt.show()"
   ]
  }
 ],
 "metadata": {
  "kernelspec": {
   "display_name": "newmeep",
   "language": "python",
   "name": "newmeep"
  },
  "language_info": {
   "codemirror_mode": {
    "name": "ipython",
    "version": 3
   },
   "file_extension": ".py",
   "mimetype": "text/x-python",
   "name": "python",
   "nbconvert_exporter": "python",
   "pygments_lexer": "ipython3",
   "version": "3.8.16"
  },
  "orig_nbformat": 4
 },
 "nbformat": 4,
 "nbformat_minor": 2
}
