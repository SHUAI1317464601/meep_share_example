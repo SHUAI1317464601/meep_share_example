{
 "cells": [
  {
   "cell_type": "code",
   "execution_count": 1,
   "metadata": {},
   "outputs": [
    {
     "name": "stdout",
     "output_type": "stream",
     "text": [
      "********************************************************************************\n",
      "WARNING: Imported VTK version (9.0) does not match the one used\n",
      "         to build the TVTK classes (9.2). This may cause problems.\n",
      "         Please rebuild TVTK.\n",
      "********************************************************************************\n",
      "\n",
      "     cylinder, center = (0,0,0)\n",
      "          radius 4, height 10, axis (0, 0, 1)\n",
      "          dielectric constant epsilon diagonal = (11.56,11.56,11.56)\n",
      "     block, center = (0,0,0)\n",
      "          size (5,5,11)\n",
      "          axes (1,0,0), (0,1,0), (0,0,1)\n",
      "          dielectric constant epsilon diagonal = (2.0736,2.0736,2.0736)\n"
     ]
    },
    {
     "data": {
      "text/plain": [
       "'sim.run(until_after_sources=mp.stop_when_fields_decayed(50, mp.Ez, pt, 1e-3))\\n#sim.run(until_after_sources=mp.stop_when_fields_decayed(50,mp.Ez, mp.Vector3(-7,0,0), 1e-3))\\n\\n# 计算反射率\\nflux_freqs = mp.get_flux_freqs(trans)\\nrefl_data = mp.get_fluxes(trans)\\nmp.output_epsilon(sim=sim)\\n# 画图显示结果\\nplt.figure(figsize=(8,6))\\nplt.plot(np.array(flux_freqs), np.array(refl_data))\\nplt.xlabel(\"Frequency (μm^-1)\")\\nplt.ylabel(\"Reflection\")\\nplt.show()'"
      ]
     },
     "execution_count": 1,
     "metadata": {},
     "output_type": "execute_result"
    }
   ],
   "source": [
    "import meep as mp\n",
    "import numpy as np\n",
    "import matplotlib.pyplot as plt\n",
    "\n",
    "# 定义模拟参数\n",
    "wvl_min = 1.45    # 波长范围\n",
    "wvl_max = 1.55\n",
    "fmin = 1/wvl_max\n",
    "fmax = 1/wvl_min\n",
    "fcen = 0.5*(fmin+fmax)\n",
    "df = fmax-fmin\n",
    "\n",
    "# 定义计算网格\n",
    "res =  6       # 网格分辨率\n",
    "dpml = 0.5      # PML厚度\n",
    "sz = 10         # 光纤长度\n",
    "cell_size = mp.Vector3(16, 16, sz+2*dpml)\n",
    "\n",
    "# 定义介质和结构\n",
    "eps_fiber = 3.4**2   # 光纤介质\n",
    "eps_clad = 1.44**2   # 包层介质\n",
    "geometry = [mp.Cylinder(radius=4, height=sz, material=mp.Medium(epsilon=eps_fiber)),\n",
    "            mp.Block(size=mp.Vector3(5, 5, sz+2*dpml), \n",
    "                     center=mp.Vector3(), material=mp.Medium(epsilon=eps_clad))]\n",
    "\n",
    "# 定义光源和探测器\n",
    "sources = [mp.Source(mp.GaussianSource(fcen, fwidth=df), \n",
    "                      component=mp.Ex, \n",
    "                      center=mp.Vector3(-6.5,0,0), \n",
    "                      size=mp.Vector3(1,0,0))]\n",
    "\n",
    "\n",
    "# 定义求解器\n",
    "sim = mp.Simulation(cell_size=cell_size,\n",
    "                    geometry=geometry,\n",
    "                    sources=sources,\n",
    "                    resolution=res,\n",
    "                    boundary_layers=[mp.PML(dpml)],\n",
    "                    default_material=mp.Medium(epsilon=eps_clad))\n",
    "\n",
    "# 运行模拟\n",
    "\n",
    "detectors = mp.FluxRegion(center=mp.Vector3(7,0,0),size=mp.Vector3(1,1,0))\n",
    "trans = sim.add_flux(fcen, df, 10, detectors)\n",
    "\n",
    "pt = mp.Vector3(7,0,0)\n",
    "\n",
    "import mayavi\n",
    "from mayavi import mlab \n",
    "sim.plot3D()\n",
    "mlab.show()\n",
    "'''sim.run(until_after_sources=mp.stop_when_fields_decayed(50, mp.Ez, pt, 1e-3))\n",
    "#sim.run(until_after_sources=mp.stop_when_fields_decayed(50,mp.Ez, mp.Vector3(-7,0,0), 1e-3))\n",
    "\n",
    "# 计算反射率\n",
    "flux_freqs = mp.get_flux_freqs(trans)\n",
    "refl_data = mp.get_fluxes(trans)\n",
    "mp.output_epsilon(sim=sim)\n",
    "# 画图显示结果\n",
    "plt.figure(figsize=(8,6))\n",
    "plt.plot(np.array(flux_freqs), np.array(refl_data))\n",
    "plt.xlabel(\"Frequency (μm^-1)\")\n",
    "plt.ylabel(\"Reflection\")\n",
    "plt.show()'''"
   ]
  }
 ],
 "metadata": {
  "kernelspec": {
   "display_name": "newmeep",
   "language": "python",
   "name": "newmeep"
  },
  "language_info": {
   "codemirror_mode": {
    "name": "ipython",
    "version": 3
   },
   "file_extension": ".py",
   "mimetype": "text/x-python",
   "name": "python",
   "nbconvert_exporter": "python",
   "pygments_lexer": "ipython3",
   "version": "3.8.16"
  },
  "orig_nbformat": 4
 },
 "nbformat": 4,
 "nbformat_minor": 2
}
